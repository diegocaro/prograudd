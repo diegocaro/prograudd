{
 "cells": [
  {
   "cell_type": "markdown",
   "metadata": {},
   "source": [
    "<img src=\"figuras/logo_UDD_Facultad_Ingenieria.jpg\" style=\"float: left; height: 110px;\">\n",
    "<h1 align=\"center\">_Programación y Modelamiento_</h1>\n",
    "<h1 align=\"center\">_Algoritmos y Esquemas Lógicos_</h1>\n",
    "<h1 align=\"right\">_28/08/2018_</h1>\n",
    "\n",
    "---"
   ]
  },
  {
   "cell_type": "markdown",
   "metadata": {},
   "source": [
    "Nota: este notebook fue creado por el Profesor Ismael Botti (ibotti en udd punto cl)."
   ]
  },
  {
   "cell_type": "markdown",
   "metadata": {},
   "source": [
    "# Bloques de esquemas lógicos\n",
    "\n",
    "<img src='figuras/LogicalSchemeBlocks.png' width=600>\n",
    "\n",
    "** Es importante darse cuenta de que la programación no es para nada algo especial, es una forma alternativa de resolver problemas, como los que tenemos en los cursos matemáticos**\n",
    "\n",
    "_Ejemplo:_\n",
    "$$\n",
    "  f(x) = \\left.\n",
    "  \\begin{cases}\n",
    "    2x+x, & \\text{para } x < 0 \\\\[1ex]\n",
    "    \\ln\\left(3x\\right), & \\text{para } x \\in [0, 7] \\\\[1ex]\n",
    "    \\dfrac{3x}{2}, & \\text{para } x > 7\\\\[1ex]\n",
    "  \\end{cases}\n",
    "  \\right.\n",
    "$$\n",
    "\n",
    "---\n",
    "\n",
    "# Reglas para un esquema lógico\n",
    "\n",
    "1. Cada esquema debe comenzar con un COMIENZO (START) y terminar en un FINAL (STOP). Sólo debe haber un bloque START y un STOP en un esquema.\n",
    "\n",
    "2. No se debe improvisar!, sólo usar bloques. Es por eso que hay que pensar muy bien como conectar los bloques.\n",
    "\n",
    "3. Flechas deben tocar los bloques de inicio y final.\n",
    "\n",
    "<img src='figuras/LogicalSchemeEx1.png' width=400>\n",
    "\n",
    "---\n",
    "\n",
    "<img src='figuras/LogicalSchemeEx2.png' width=600>\n",
    "\n",
    "---\n",
    "\n",
    "<img src='figuras/LogicalSchemeEx3.png' width=600>\n",
    "---"
   ]
  },
  {
   "cell_type": "markdown",
   "metadata": {},
   "source": [
    "# Condicionales\n",
    "\n",
    "## Decisión\n",
    "\n",
    "Se usa cuando tenemos dos alternativas y sólo podemos escoger una.\n",
    "\n",
    "**Es importante tener un criterio: condición matemática!**\n",
    "\n",
    "Una vez que se haya optado por una opción o la otra, el algoritmo seguira por un camino donde:\n",
    "\n",
    "1. No puede volver atrás\n",
    "2. No puede cambiar de alternativa\n",
    "\n",
    "<img src='figuras/ConditionalScheme.png' width=600>\n",
    "\n",
    "Condicionales se pueden ocupar para:\n",
    "\n",
    "1. Validar inputs\n",
    "2. Validar outputs\n",
    "3. Manejar casos de excepciones (que veremos más adelante).\n",
    "---\n",
    "_Ejemplo:_ Escriba un esquema lógico para encontrar el valor de $E$, definido como\n",
    "\n",
    "* Caso 1: $$ E = \\dfrac{a+b}{25-c} $$\n",
    "* Caso 2: $$ E = \\dfrac{\\sqrt{a+b}}{25-c} $$\n",
    "\n"
   ]
  },
  {
   "cell_type": "code",
   "execution_count": null,
   "metadata": {},
   "outputs": [],
   "source": [
    "# if-else\n",
    "# "
   ]
  },
  {
   "cell_type": "markdown",
   "metadata": {},
   "source": [
    "## Selección\n",
    "\n",
    "<img src='figuras/SelectionScheme.png' width=800>\n",
    "\n",
    "---\n",
    "_Ejemplo:_ Escriba un esquema lógico para evaluar $f$, definido como\n",
    "\n",
    "* Caso 1: \n",
    "$$  f(x) = \\left.\n",
    "  \\begin{cases}\n",
    "    x^2+1, & \\text{para } x =1 \\\\[1ex]\n",
    "    2-x, & \\text{para } x = 2 \\\\[1ex]\n",
    "    7x+3, & \\text{para } x =3\\\\[1ex]\n",
    "  \\end{cases}\n",
    "  \\right.$$\n",
    "* Caso 2: \n",
    "$$  f(x) = \\left.\n",
    "  \\begin{cases}\n",
    "    x^2+1, & \\text{para } x =1 \\\\[1ex]\n",
    "    2-x, & \\text{para } x = 2 \\\\[1ex]\n",
    "    7x+3, & \\text{para } x =3\\\\[1ex]\n",
    "    x - 2, & \\text{para } x\\not\\in\\{1,2,3\\}\n",
    "  \\end{cases}\n",
    "  \\right.$$\n",
    "---\n",
    "__*PROPUESTO*__: Escriba un esquema lógico para evaluar la siguiente función bivariada:\n",
    "$$  f(x,y) = \\left.\n",
    "  \\begin{cases}\n",
    "    2x+6y, & \\text{para } x =1 \\\\[1ex]\n",
    "    \\ln\\left(6-y\\right), & \\text{para } x = 2 \\\\[1ex]\n",
    "    25-y, & \\text{para } x =3\\\\[1ex]\n",
    "    7x^2 - y^2, & \\text{para } x\\not\\in\\{1,2,3\\}\n",
    "  \\end{cases}\n",
    "  \\right.$$\n",
    "\n",
    "---\n",
    "\n",
    "**_Es importante notar que la selección y la decisión se diferencian en que la primera compara igualdades, mientras que la segunda compara tanto igualdades como desigualdades_**\n",
    "\n",
    "---"
   ]
  },
  {
   "cell_type": "code",
   "execution_count": null,
   "metadata": {},
   "outputs": [],
   "source": [
    "# if-elif-else\n",
    "# "
   ]
  },
  {
   "cell_type": "markdown",
   "metadata": {},
   "source": [
    "# Estructuras Iterativas (iteraciones, repeticiones, loops)\n",
    "\n",
    "Se componen de:\n",
    "- Un contador\n",
    "- Una condición de salida\n",
    "- Comandos (secuencia)\n",
    "\n",
    "## Importancia\n",
    "\n",
    "Todas las partes son igualmente importantes. Si **NO** hay un:\n",
    "\n",
    "- Contador: algoritmo nunca sale del loop (loop infinito)\n",
    "- Condición de salida: garantiza que el loop es infinito\n",
    "- Comandos: lo que queremos que realice el algoritmo\n",
    "\n",
    "## Tipos de loops\n",
    "\n",
    "1. Iteraciones que usan un test inicial\n",
    "2. Iteraciones que usan un test final\n",
    "3. Iteraciones que utilizan un contador\n",
    "\n",
    "El primer y segundo tipo se diferencian en la posición de la condición de término del loop:\n",
    "\n",
    "1. Test > Comandos\n",
    "2. Comandos > Test\n",
    "\n",
    "<h2 align=\"center\">Tipo 1: Test inicial</h2>\n",
    "<img src='figuras/Iterative.png' width=800>\n",
    "\n",
    "---\n",
    "\n",
    "_Ejemplo 1:_\n",
    "<img src='figuras/IterativeEx1.png' width=800>\n",
    "\n",
    "_Ejemplo 2:_ Escribir algoritmo para encontrar la suma $S = \\sum_{i=0}^n a_i$\n",
    "\n",
    "---"
   ]
  },
  {
   "cell_type": "code",
   "execution_count": null,
   "metadata": {},
   "outputs": [],
   "source": [
    "# while"
   ]
  },
  {
   "cell_type": "markdown",
   "metadata": {},
   "source": [
    "<h2 align=\"center\">Tipo 2: Test al final</h2>\n",
    "\n",
    "<img src='figuras/Iterative2.png' width=800>\n",
    "\n",
    "_Ejemplo:_ \n",
    "\n",
    "---"
   ]
  },
  {
   "cell_type": "code",
   "execution_count": null,
   "metadata": {},
   "outputs": [],
   "source": [
    "# for-break-continue"
   ]
  },
  {
   "cell_type": "markdown",
   "metadata": {},
   "source": [
    "<h2 align=\"center\">Tipo 3: Contador</h2>\n",
    "<img src='figuras/Iterative3.png' width=800>\n",
    "\n",
    "_Ejemplo:_ \n",
    "\n",
    "---"
   ]
  },
  {
   "cell_type": "code",
   "execution_count": null,
   "metadata": {},
   "outputs": [],
   "source": [
    "# while / for"
   ]
  },
  {
   "cell_type": "markdown",
   "metadata": {},
   "source": [
    "# Subalgoritmos\n",
    "\n",
    "Corresponde a un pedazo de código que es re-utilizable a lo largo del algoritmo principal.\n",
    "\n",
    "Un subalgoritmo se conforma de:\n",
    "- un **nombre**: es lo más descriptivo posible\n",
    "- las tres partes fundamentales de un algoritmo: **inputs**, **comandos** y **outputs**\n",
    "\n",
    "Dentro de un subalgoritmo puede o no tener **inputs** o **outputs**.\n",
    "\n",
    "Para usar un subalgoritmo hay que definirla _antes_.\n",
    "\n",
    "Un subalgoritmo se define _una sola vez_ y puede ocuparse múltiples veces dentro del algoritmo pricipal.\n",
    "\n",
    "## Diagrama de flujo\n",
    "\n",
    "<img src='figuras/Functions1.png' width=500>\n",
    "\n",
    "## Scope de variables\n",
    "\n",
    "No todas las variables dentro de un subalgoritmo son accesibles en el algoritmo principal. Esto porque hay variables **locales** y **globales**, lo que es conocido como el _scope_ o _alcance_ de una variable.\n",
    "\n",
    "## LLamado de subalgoritmos\n",
    "\n",
    "Para llamar un subalgoritmo (ejecutarlo), debemos:\n",
    "\n",
    "- Llamarlo por su nombre\n",
    "- El número de inputs dados en el llamado debe ser _igual_ al número de inputs definidos en la descripción del subalgoritmo.\n",
    "- El orden de las variables dadas como inputs _ES_ importante.\n",
    "- Un subalgoritmo _puede_ llamar a otro subalgoritmo.\n",
    "\n",
    "<img src='figuras/Functions2.png' width=800>\n",
    "\n",
    "## Buenas prácticas para definir subalgoritmos\n",
    "\n",
    "1. Escoger un nombre sugerente, junto con un `docstring` adecuado.\n",
    "2. Un subalgoritmo debe terminar entregando: un resultado (una variable, número, etc), un mensaje de error, o un objeto `None`.\n",
    "3. Debe realizar _sólo_ una cosa.\n"
   ]
  },
  {
   "cell_type": "code",
   "execution_count": null,
   "metadata": {},
   "outputs": [],
   "source": []
  },
  {
   "cell_type": "markdown",
   "metadata": {},
   "source": [
    "--- \n",
    "\n",
    "# Ejercicios\n",
    "\n",
    "**1. Dibuje un diagrama de flujo para un algoritmo que pregunte dos números, $a$ y $b$, y devuelva su división**\n",
    "$$S=\\dfrac{a}{b}$$\n",
    "\n",
    "**2. Dibuje un diagrama de flujo para un algoritmo que pregunte dos números, $a$ y $b$, y devuelva** $$ S = \\dfrac{\\sqrt{a}}{b}$$\n",
    "\n",
    "**3. Dibuje un diagrama de flujo para un algoritmo que pregunte tres números, $a$, $b$ y $c$, y devuelva** $$ S = \\dfrac{\\sqrt{a}+\\sqrt{b}}{c}$$\n",
    "\n",
    "**4. Dibuje un diagrama de flujo para un algoritmo que pregunte un número $x$ y evalúe** $$  f(x) = \\left.\n",
    "  \\begin{cases}\n",
    "    x^2+1, & \\text{para } x \\le 0 \\\\[1ex]\n",
    "    2-x, & \\text{para } x > 0 \\\\[1ex]\n",
    "  \\end{cases}\n",
    "  \\right.$$\n",
    "  \n",
    "**5. Dibuje un diagrama de flujo para un algoritmo que tenga como input una lista de valores $x_i$ y entregue su suma** $$ S = \\sum_{i=0}^{n} x_i $$\n",
    "\n",
    "**El algoritmo debe incluir subalgoritmos para: (1) calcular el largo de la lista, (2) calcular la suma de los elementos.** "
   ]
  },
  {
   "cell_type": "code",
   "execution_count": null,
   "metadata": {},
   "outputs": [],
   "source": []
  }
 ],
 "metadata": {
  "kernelspec": {
   "display_name": "Python 3",
   "language": "python",
   "name": "python3"
  },
  "language_info": {
   "codemirror_mode": {
    "name": "ipython",
    "version": 3
   },
   "file_extension": ".py",
   "mimetype": "text/x-python",
   "name": "python",
   "nbconvert_exporter": "python",
   "pygments_lexer": "ipython3",
   "version": "3.7.0"
  }
 },
 "nbformat": 4,
 "nbformat_minor": 2
}
